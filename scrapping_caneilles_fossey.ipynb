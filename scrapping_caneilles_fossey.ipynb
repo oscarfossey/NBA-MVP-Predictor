{
 "cells": [
  {
   "cell_type": "code",
   "execution_count": 1,
   "metadata": {},
   "outputs": [],
   "source": [
    "import pandas as pd\n",
    "import numpy as np"
   ]
  },
  {
   "cell_type": "markdown",
   "metadata": {},
   "source": [
    "All data are scrapped from BasketBall-Reference website"
   ]
  },
  {
   "cell_type": "markdown",
   "metadata": {},
   "source": [
    "# **Data scrapping (from 1979-80 to 2020-21)**"
   ]
  },
  {
   "cell_type": "code",
   "execution_count": 2,
   "metadata": {},
   "outputs": [],
   "source": [
    "#Seasons span\n",
    "years = np.arange(1981,2022)"
   ]
  },
  {
   "cell_type": "markdown",
   "metadata": {},
   "source": [
    "## **1. Classic stats per game**"
   ]
  },
  {
   "cell_type": "code",
   "execution_count": 3,
   "metadata": {},
   "outputs": [
    {
     "name": "stderr",
     "output_type": "stream",
     "text": [
      "/var/folders/k3/3tz5rmjd3j3fsyyg9ynxk2680000gn/T/ipykernel_9656/2496363074.py:13: FutureWarning: The default value of regex will change from True to False in a future version. In addition, single character regular expressions will *not* be treated as literal strings when regex=True.\n",
      "  df_stats.Player = df_stats.Player.str.replace(\"*\",\"\")\n"
     ]
    }
   ],
   "source": [
    "'''Init'''\n",
    "\n",
    "df_stats = pd.read_html('http://www.basketball-reference.com/leagues/NBA_1980_per_game.html'\\\n",
    "    , header = 0)[0]\n",
    "\n",
    "#Traded players during the season\n",
    "df_stats['No_trade'] = ~df_stats['Rk'].duplicated(keep=False)\n",
    "df_stats = df_stats.drop_duplicates(['Rk'], keep='first')\n",
    "\n",
    "#Adding some columns\n",
    "df_stats = df_stats.assign(Season = \"1979-1980\", Decade = \"1980\", \n",
    "                Trade = (df_stats['No_trade']==False))\n",
    "df_stats.Player = df_stats.Player.str.replace(\"*\",\"\")\n",
    "\n",
    "#Dropping unusefull column\n",
    "df_stats = df_stats.drop(columns=['No_trade'])"
   ]
  },
  {
   "cell_type": "code",
   "execution_count": 4,
   "metadata": {},
   "outputs": [
    {
     "name": "stderr",
     "output_type": "stream",
     "text": [
      "/var/folders/k3/3tz5rmjd3j3fsyyg9ynxk2680000gn/T/ipykernel_9656/166087837.py:18: FutureWarning: The default value of regex will change from True to False in a future version. In addition, single character regular expressions will *not* be treated as literal strings when regex=True.\n",
      "  df2.Player = df2.Player.str.replace(\"*\",\"\")\n"
     ]
    },
    {
     "name": "stdout",
     "output_type": "stream",
     "text": [
      "10/42\n",
      "-----\n",
      "20/42\n",
      "-----\n",
      "30/42\n",
      "-----\n",
      "40/42\n",
      "-----\n",
      "42/42\n",
      "-----\n",
      "All data have been fetched.\n"
     ]
    }
   ],
   "source": [
    "'''Looping through seasons'''\n",
    "\n",
    "#Account init\n",
    "c=1\n",
    "\n",
    "for year in years :\n",
    "    url = f'http://www.basketball-reference.com/leagues/NBA_{year}_per_game.html'\n",
    "    \n",
    "    df2 = pd.read_html(url, header = 0)[0]\n",
    "    \n",
    "    #Traded players\n",
    "    df2['No trade'] = ~df2['Rk'].duplicated(keep=False)\n",
    "    df2 = df2.drop_duplicates(['Rk'], keep='first')\n",
    "\n",
    "    #Adding same types of columns\n",
    "    df2 = df2.assign(Season = f\"{year-1}-{year}\", Decade = f\"{int(10*np.floor(year/10))}\", \n",
    "                    Trade = (df2['No trade']==False))\n",
    "    df2.Player = df2.Player.str.replace(\"*\",\"\")\n",
    "    \n",
    "    #Same dropping\n",
    "    df2 = df2.drop(columns=['No trade'])\n",
    "    \n",
    "    #Concatenation\n",
    "    df_stats = df_stats.append(df2, ignore_index = True)\n",
    "\n",
    "    c+=1\n",
    "    if c%10 == 0 :\n",
    "        print(f\"{c}/{years[-1]-years[0]+2}\")\n",
    "        print('-'*5)\n",
    "\n",
    "#End\n",
    "print(f\"{c}/{years[-1]-years[0]+2}\")\n",
    "print('-'*5)\n",
    "print('All data have been fetched.')"
   ]
  },
  {
   "cell_type": "code",
   "execution_count": 5,
   "metadata": {},
   "outputs": [],
   "source": [
    "'''Columns types'''\n",
    "\n",
    "df_stats = df_stats.drop(df_stats[df_stats.Rk == 'Rk'].index)\n",
    "\n",
    "col_cat = ['Player', 'Pos', 'Tm','Season', 'Trade']\n",
    "\n",
    "col_int =['Rk','Age','Decade','G','GS']\n",
    "\n",
    "for column in df_stats.columns :\n",
    "    if column not in col_cat and column not in col_int :\n",
    "        if column not in col_int :\n",
    "            df_stats[column] = df_stats[column].astype(float)\n",
    "        else :\n",
    "            df_stats[column] = df_stats[column].astype(int)"
   ]
  },
  {
   "cell_type": "markdown",
   "metadata": {},
   "source": [
    "## **2. Advanced stats per game**"
   ]
  },
  {
   "cell_type": "code",
   "execution_count": 6,
   "metadata": {},
   "outputs": [
    {
     "name": "stderr",
     "output_type": "stream",
     "text": [
      "/var/folders/k3/3tz5rmjd3j3fsyyg9ynxk2680000gn/T/ipykernel_9656/959464798.py:9: FutureWarning: The default value of regex will change from True to False in a future version. In addition, single character regular expressions will *not* be treated as literal strings when regex=True.\n",
      "  df_adv.Player = df_adv.Player.str.replace(\"*\",\"\")\n"
     ]
    }
   ],
   "source": [
    "'''Init'''\n",
    "\n",
    "df_adv = pd.read_html('https://www.basketball-reference.com/leagues/NBA_1980_advanced.html'\\\n",
    "    , header = 0)[0]\n",
    "\n",
    "df_adv = df_adv.drop_duplicates(['Rk'], keep='first')\n",
    "\n",
    "df_adv = df_adv.assign(Season = \"1979-1980\")\n",
    "df_adv.Player = df_adv.Player.str.replace(\"*\",\"\")"
   ]
  },
  {
   "cell_type": "code",
   "execution_count": 7,
   "metadata": {},
   "outputs": [
    {
     "name": "stderr",
     "output_type": "stream",
     "text": [
      "/var/folders/k3/3tz5rmjd3j3fsyyg9ynxk2680000gn/T/ipykernel_9656/1528544668.py:13: FutureWarning: The default value of regex will change from True to False in a future version. In addition, single character regular expressions will *not* be treated as literal strings when regex=True.\n",
      "  df2.Player = df2.Player.str.replace(\"*\",\"\")\n"
     ]
    },
    {
     "name": "stdout",
     "output_type": "stream",
     "text": [
      "10/42\n",
      "-----\n",
      "20/42\n",
      "-----\n",
      "30/42\n",
      "-----\n",
      "40/42\n",
      "-----\n",
      "42/42\n",
      "-----\n",
      "All data have been fetched.\n"
     ]
    }
   ],
   "source": [
    "'''Looping through seasons'''\n",
    "\n",
    "c=1\n",
    "\n",
    "for year in years :\n",
    "    url = f'https://www.basketball-reference.com/leagues/NBA_{year}_advanced.html'\n",
    "    \n",
    "    df2 = pd.read_html(url, header = 0)[0]\n",
    "    \n",
    "    df2 = df2.drop_duplicates(['Rk'], keep='first')\n",
    "\n",
    "    df2 = df2.assign(Season = f\"{year-1}-{year}\")\n",
    "    df2.Player = df2.Player.str.replace(\"*\",\"\")\n",
    "    \n",
    "    df_adv = df_adv.append(df2, ignore_index = True)\n",
    "\n",
    "    c+=1\n",
    "    if c%10 == 0 :\n",
    "        print(f\"{c}/{years[-1]-years[0]+2}\")\n",
    "        print('-'*5)\n",
    "\n",
    "#End\n",
    "print(f\"{c}/{years[-1]-years[0]+2}\")\n",
    "print('-'*5)\n",
    "print('All data have been fetched.')"
   ]
  },
  {
   "cell_type": "code",
   "execution_count": 8,
   "metadata": {},
   "outputs": [],
   "source": [
    "'''Columns types'''\n",
    "\n",
    "df_adv = df_adv.drop(df_adv[df_adv.Rk == 'Rk'].index)\n",
    "\n",
    "col_cat = ['Player', 'Pos', 'Tm','Season']\n",
    "\n",
    "col_int =['Rk','Age','G']\n",
    "\n",
    "for column in df_adv.columns :\n",
    "    if column not in col_cat and column not in col_int :\n",
    "        if column not in col_int :\n",
    "            df_adv[column] = df_adv[column].astype(float)\n",
    "        else :\n",
    "            df_adv[column] = df_adv[column].astype(int)\n",
    "\n",
    "empty_columns = [c for c in df_adv.columns if df_adv[c].isnull().all()]\n",
    "\n",
    "df_adv.drop(empty_columns, axis='columns', inplace=True)"
   ]
  },
  {
   "cell_type": "markdown",
   "metadata": {},
   "source": [
    "## **3. MVP trophy historic**"
   ]
  },
  {
   "cell_type": "code",
   "execution_count": 9,
   "metadata": {},
   "outputs": [],
   "source": [
    "years_mvp = np.arange(1955,2022)"
   ]
  },
  {
   "cell_type": "markdown",
   "metadata": {},
   "source": [
    "### a. Winners"
   ]
  },
  {
   "cell_type": "code",
   "execution_count": 10,
   "metadata": {},
   "outputs": [],
   "source": [
    "df_mvp = pd.read_html('https://www.basketball-reference.com/awards/mvp.html', header = 1)[0]"
   ]
  },
  {
   "cell_type": "code",
   "execution_count": 11,
   "metadata": {},
   "outputs": [],
   "source": [
    "seasons_mvp = []\n",
    "for i in range(len(df_mvp)) :\n",
    "    seasons_mvp.append(f'{years_mvp[i]}-{years_mvp[i+1]}')"
   ]
  },
  {
   "cell_type": "code",
   "execution_count": 12,
   "metadata": {},
   "outputs": [],
   "source": [
    "df_mvp['Season'] = seasons_mvp[::-1]\n",
    "\n",
    "df_mvp = df_mvp[['Season', 'Player']]"
   ]
  },
  {
   "cell_type": "code",
   "execution_count": 13,
   "metadata": {},
   "outputs": [],
   "source": [
    "mvps = list(df_mvp.Player.values)\n",
    "already_mvp = []\n",
    "for i in range(len(mvps)) :\n",
    "    already_mvp.append(mvps[i] in mvps[i+1:])\n",
    "\n",
    "df_mvp['Already_mvp'] = already_mvp"
   ]
  },
  {
   "cell_type": "markdown",
   "metadata": {},
   "source": [
    "### b. Vote results"
   ]
  },
  {
   "cell_type": "code",
   "execution_count": 14,
   "metadata": {},
   "outputs": [],
   "source": [
    "df_vote_mvp = pd.read_html('https://www.basketball-reference.com/awards/awards_1980.html', header=1)[0]"
   ]
  },
  {
   "cell_type": "code",
   "execution_count": 15,
   "metadata": {},
   "outputs": [],
   "source": [
    "usefull_columns = ['Player','Share']\n",
    "\n",
    "df_vote_mvp = df_vote_mvp[usefull_columns]\n",
    "\n",
    "df_vote_mvp = df_vote_mvp.assign(Season = '1979-1980')"
   ]
  },
  {
   "cell_type": "code",
   "execution_count": 16,
   "metadata": {},
   "outputs": [
    {
     "name": "stdout",
     "output_type": "stream",
     "text": [
      "10/42\n",
      "-----\n",
      "20/42\n",
      "-----\n",
      "30/42\n",
      "-----\n",
      "40/42\n",
      "-----\n",
      "42/42\n",
      "-----\n",
      "All data have been fetched.\n"
     ]
    }
   ],
   "source": [
    "'''Looping'''\n",
    "\n",
    "c=1\n",
    "\n",
    "for year in years :\n",
    "    url = f'https://www.basketball-reference.com/awards/awards_{year}.html'\n",
    "    \n",
    "    df2 = pd.read_html(url, header = 1)[0]\n",
    "    \n",
    "    df2 = df2[usefull_columns]\n",
    "\n",
    "    df2 = df2.assign(Season = f\"{year-1}-{year}\")\n",
    "\n",
    "    df_vote_mvp = df_vote_mvp.append(df2, ignore_index = True)\n",
    "\n",
    "    c+=1\n",
    "    if c%10 == 0 :\n",
    "        print(f\"{c}/{years[-1]-years[0]+2}\")\n",
    "        print('-'*5)\n",
    "\n",
    "#End\n",
    "print(f\"{c}/{years[-1]-years[0]+2}\")\n",
    "print('-'*5)\n",
    "print('All data have been fetched.')"
   ]
  },
  {
   "cell_type": "markdown",
   "metadata": {},
   "source": [
    "## **4. Collective results (standings)**"
   ]
  },
  {
   "cell_type": "code",
   "execution_count": 17,
   "metadata": {},
   "outputs": [],
   "source": [
    "'''Init'''\n",
    "\n",
    "L_df = pd.read_html('https://www.basketball-reference.com/leagues/NBA_1980_standings.html', header = 0)"
   ]
  },
  {
   "cell_type": "code",
   "execution_count": 18,
   "metadata": {},
   "outputs": [],
   "source": [
    "def traitement(df) :\n",
    "    if df.W.dtype == object :\n",
    "        df.drop(df[df.W.str.isdigit() == False].index, inplace=True)\n",
    "    df.rename({list(df.columns)[0]: 'Team'}, axis='columns', inplace=True)\n",
    "\n",
    "    columns_to_convert = [c for c in df if c != 'Team']\n",
    "    \n",
    "    df.GB = df.GB.str.replace(\"—\",\"0\")\n",
    "\n",
    "    for c in columns_to_convert :\n",
    "        df[c] = pd.to_numeric(df[c], downcast='float')\n",
    "      \n",
    "    max_ws = max([int(w) for w in df.W])\n",
    "    df['GBC'] = max_ws - df.W\n",
    "\n",
    "    df['Playoffs'] = df.Team.str.endswith(\"*\")\n",
    "    df.Team = df.Team.str.replace(\"*\",\"\")\n",
    "    df.sort_values(['W/L%','Playoffs'], ascending=[False, False], ignore_index=True, inplace=True)\n",
    "\n",
    "    df['Ranking_Conf'] = df.index + 1"
   ]
  },
  {
   "cell_type": "code",
   "execution_count": 19,
   "metadata": {},
   "outputs": [],
   "source": [
    "def traitement2(l_df, season) :\n",
    "    df = l_df[0].append(l_df[1], ignore_index = True)\n",
    "    df.sort_values(['W/L%','Playoffs'], ascending=[False, False], ignore_index=True, inplace=True)\n",
    "    df['Ranking_League'] = df.index + 1\n",
    "\n",
    "    max_ws = max([int(w) for w in df.W])\n",
    "    df.GB = max_ws - df.W\n",
    "    df[\"Season\"] = season\n",
    "    return df"
   ]
  },
  {
   "cell_type": "code",
   "execution_count": 20,
   "metadata": {},
   "outputs": [
    {
     "name": "stderr",
     "output_type": "stream",
     "text": [
      "/var/folders/k3/3tz5rmjd3j3fsyyg9ynxk2680000gn/T/ipykernel_9656/3127126252.py:17: FutureWarning: The default value of regex will change from True to False in a future version. In addition, single character regular expressions will *not* be treated as literal strings when regex=True.\n",
      "  df.Team = df.Team.str.replace(\"*\",\"\")\n"
     ]
    }
   ],
   "source": [
    "for df in L_df :\n",
    "    traitement(df)"
   ]
  },
  {
   "cell_type": "code",
   "execution_count": 21,
   "metadata": {},
   "outputs": [],
   "source": [
    "df_standings = traitement2(L_df, '1979-1980')"
   ]
  },
  {
   "cell_type": "code",
   "execution_count": 22,
   "metadata": {},
   "outputs": [
    {
     "name": "stderr",
     "output_type": "stream",
     "text": [
      "/var/folders/k3/3tz5rmjd3j3fsyyg9ynxk2680000gn/T/ipykernel_9656/3127126252.py:17: FutureWarning: The default value of regex will change from True to False in a future version. In addition, single character regular expressions will *not* be treated as literal strings when regex=True.\n",
      "  df.Team = df.Team.str.replace(\"*\",\"\")\n"
     ]
    },
    {
     "name": "stdout",
     "output_type": "stream",
     "text": [
      "10/42\n",
      "-----\n",
      "20/42\n",
      "-----\n",
      "30/42\n",
      "-----\n",
      "40/42\n",
      "-----\n",
      "42/42\n",
      "-----\n",
      "All data have been fetched.\n"
     ]
    }
   ],
   "source": [
    "'''Looping'''\n",
    "c=1\n",
    "\n",
    "for year in years :\n",
    "    url2 = f'https://www.basketball-reference.com/leagues/NBA_{year}_standings.html'\n",
    "    \n",
    "    L_df2 = pd.read_html(url2, header = 0)\n",
    "\n",
    "    for df in L_df2 :\n",
    "        traitement(df)\n",
    "    \n",
    "    df2 = traitement2(L_df2, f\"{year-1}-{year}\")\n",
    "    \n",
    "    df_standings = df_standings.append(df2, ignore_index = True)\n",
    "\n",
    "    c+=1\n",
    "    if c%10 == 0 :\n",
    "        print(f\"{c}/{years[-1]-years[0]+2}\")\n",
    "        print(\"-\"*5)\n",
    "\n",
    "#End\n",
    "print(f\"{c}/{years[-1]-years[0]+2}\")\n",
    "print(\"-\"*5)\n",
    "print('All data have been fetched.')\n",
    "    "
   ]
  },
  {
   "cell_type": "markdown",
   "metadata": {},
   "source": [
    "## **5. Dataset construction**"
   ]
  },
  {
   "cell_type": "code",
   "execution_count": 23,
   "metadata": {},
   "outputs": [],
   "source": [
    "df_stats.drop(list(df_stats.columns)[0], axis = 'columns', inplace = True)\n",
    "df_adv.drop(list(df_adv.columns)[0], axis = 'columns', inplace = True)"
   ]
  },
  {
   "cell_type": "markdown",
   "metadata": {},
   "source": [
    "### a. Add advanced stats to classic stats Dataframe"
   ]
  },
  {
   "cell_type": "code",
   "execution_count": 24,
   "metadata": {},
   "outputs": [],
   "source": [
    "df_glob = df_stats.merge(df_adv, on = ['Player', 'Season', 'Age', 'Tm', 'G', 'Pos'])"
   ]
  },
  {
   "cell_type": "code",
   "execution_count": 25,
   "metadata": {},
   "outputs": [],
   "source": [
    "df_glob = df_glob.rename(columns={'MP_x': 'MPG', 'MP_y': 'MPTot'})"
   ]
  },
  {
   "cell_type": "markdown",
   "metadata": {},
   "source": [
    "### b. Adding MVPs"
   ]
  },
  {
   "cell_type": "code",
   "execution_count": 26,
   "metadata": {},
   "outputs": [],
   "source": [
    "verif_glob = np.array([list(df_glob.Season.values),list(df_glob.Player.values)])\n",
    "verif_glob = np.transpose(verif_glob)\n",
    "verif_glob = [list(elt) for elt in verif_glob]"
   ]
  },
  {
   "cell_type": "code",
   "execution_count": 27,
   "metadata": {},
   "outputs": [],
   "source": [
    "verif_mvp = np.array([list(df_mvp.Season.values),list(df_mvp.Player.values)])\n",
    "verif_mvp = np.transpose(verif_mvp)\n",
    "verif_mvp = [list(elt) for elt in verif_mvp]\n",
    "\n",
    "verif_past_mvp = np.array([list(df_mvp[df_mvp.Already_mvp].Season.values),list(df_mvp[df_mvp.Already_mvp].Player.values)])\n",
    "verif_past_mvp = np.transpose(verif_past_mvp)\n",
    "verif_past_mvp = [list(elt) for elt in verif_past_mvp]"
   ]
  },
  {
   "cell_type": "code",
   "execution_count": 28,
   "metadata": {},
   "outputs": [],
   "source": [
    "MVP, PastMVP = [],[]\n",
    "\n",
    "for elt in verif_glob :\n",
    "    MVP.append(elt in verif_mvp)\n",
    "    PastMVP.append(elt in verif_past_mvp)"
   ]
  },
  {
   "cell_type": "code",
   "execution_count": 29,
   "metadata": {},
   "outputs": [],
   "source": [
    "MVP, PastMVP = [],[]\n",
    "\n",
    "for elt in verif_glob :\n",
    "    MVP.append(elt in verif_mvp)\n",
    "    if elt in verif_past_mvp :\n",
    "        PastMVP.append(True)\n",
    "    elif elt[1] in list(df_mvp.Player.values) :\n",
    "        if elt[0] > min(list(df_mvp[df_mvp.Player == elt [1]].Season.values)) :\n",
    "            PastMVP.append(True)\n",
    "        else :\n",
    "            PastMVP.append(False)\n",
    "    else :\n",
    "        PastMVP.append(False)"
   ]
  },
  {
   "cell_type": "code",
   "execution_count": 30,
   "metadata": {},
   "outputs": [],
   "source": [
    "df_glob['MVP'] = MVP\n",
    "df_glob['PastMVP'] = PastMVP"
   ]
  },
  {
   "cell_type": "markdown",
   "metadata": {},
   "source": [
    "### c. Team's accronyms"
   ]
  },
  {
   "cell_type": "markdown",
   "metadata": {},
   "source": [
    "In this part we are going to relate the team acronyms with their full name. Indeed, in the DataFrame regrouping the individual stats for players, the team is indicated with an acronym like 'GSW' for the 'Golden State Warriors' for example. However in the DataFrame gathering the team statistics (wins, PTS, REB, ...), the team is filled by its full name, hence the need to cross the two.\n",
    "\n",
    "In the teams, only one has 2 accronyms : the 'Charlotte Hornets' : 'CHO' and 'CHH', that's why we decide to replace 'CHO' by 'CHH' in all the DataFrame of the individual statistics."
   ]
  },
  {
   "cell_type": "code",
   "execution_count": 31,
   "metadata": {},
   "outputs": [],
   "source": [
    "df_glob.Tm = df_glob.Tm.str.replace('CHO', 'CHH')"
   ]
  },
  {
   "cell_type": "code",
   "execution_count": 32,
   "metadata": {},
   "outputs": [
    {
     "data": {
      "text/plain": [
       "{'ATL': 'Atlanta Hawks',\n",
       " 'BOS': 'Boston Celtics',\n",
       " 'BRK': 'Brooklyn Nets',\n",
       " 'CHA': 'Charlotte Bobcats',\n",
       " 'CHH': 'Charlotte Hornets',\n",
       " 'CHI': 'Chicago Bulls',\n",
       " 'CLE': 'Cleveland Cavaliers',\n",
       " 'DAL': 'Dallas Mavericks',\n",
       " 'DEN': 'Denver Nuggets',\n",
       " 'DET': 'Detroit Pistons',\n",
       " 'GSW': 'Golden State Warriors',\n",
       " 'HOU': 'Houston Rockets',\n",
       " 'IND': 'Indiana Pacers',\n",
       " 'KCK': 'Kansas City Kings',\n",
       " 'LAC': 'Los Angeles Clippers',\n",
       " 'LAL': 'Los Angeles Lakers',\n",
       " 'MEM': 'Memphis Grizzlies',\n",
       " 'MIA': 'Miami Heat',\n",
       " 'MIL': 'Milwaukee Bucks',\n",
       " 'MIN': 'Minnesota Timberwolves',\n",
       " 'NJN': 'New Jersey Nets',\n",
       " 'NOH': 'New Orleans Hornets',\n",
       " 'NOK': 'New Orleans Pelicans',\n",
       " 'NOP': 'New Orleans/Oklahoma City Hornets',\n",
       " 'NYK': 'New York Knicks',\n",
       " 'OKC': 'Oklahoma City Thunder',\n",
       " 'ORL': 'Orlando Magic',\n",
       " 'PHI': 'Philadelphia 76ers',\n",
       " 'PHO': 'Phoenix Suns',\n",
       " 'POR': 'Portland Trail Blazers',\n",
       " 'SAC': 'Sacramento Kings',\n",
       " 'SAS': 'San Antonio Spurs',\n",
       " 'SDC': 'San Diego Clippers',\n",
       " 'SEA': 'Seattle SuperSonics',\n",
       " 'TOR': 'Toronto Raptors',\n",
       " 'UTA': 'Utah Jazz',\n",
       " 'VAN': 'Vancouver Grizzlies',\n",
       " 'WAS': 'Washington Bullets',\n",
       " 'WSB': 'Washington Wizards'}"
      ]
     },
     "execution_count": 32,
     "metadata": {},
     "output_type": "execute_result"
    }
   ],
   "source": [
    "teams_acro = list(set(list(df_glob.Tm.values)))\n",
    "teams_name = list(set(list(df_standings.Team.values)))\n",
    "teams_acro.remove('TOT')\n",
    "teams_acro.sort()\n",
    "teams_name.sort()\n",
    "\n",
    "tab_teams ={}\n",
    "for i in range(len(teams_name)):\n",
    "    tab_teams[teams_acro[i]]=teams_name[i]\n",
    "\n",
    "tab_teams"
   ]
  },
  {
   "cell_type": "markdown",
   "metadata": {},
   "source": [
    "It can be seen that the misplaced acronyms are :\n",
    "- NOK and NOP to be reversed\n",
    "- WAS and WSB to be reversed"
   ]
  },
  {
   "cell_type": "code",
   "execution_count": 33,
   "metadata": {},
   "outputs": [],
   "source": [
    "tab_teams['NOK'] = 'New Orleans/Oklahoma City Hornets'\n",
    "tab_teams['NOP'] = 'New Orleans Pelicans'\n",
    "tab_teams['WAS'] = 'Washington Wizards'\n",
    "tab_teams['WSB'] = 'Washington Bullets'"
   ]
  },
  {
   "cell_type": "code",
   "execution_count": 34,
   "metadata": {},
   "outputs": [],
   "source": [
    "names = []\n",
    "for acro in list(df_glob.Tm.values) :\n",
    "    if acro != 'TOT' :\n",
    "        names.append(tab_teams[acro])\n",
    "    else :\n",
    "        names.append('Trade')\n",
    "\n",
    "df_glob.insert(4, 'Team', names)"
   ]
  },
  {
   "cell_type": "markdown",
   "metadata": {},
   "source": [
    "### d. Adding collective results to global dataframe"
   ]
  },
  {
   "cell_type": "code",
   "execution_count": 35,
   "metadata": {},
   "outputs": [],
   "source": [
    "df_glob = df_glob.merge(df_standings, on=['Team', 'Season'], how='outer')"
   ]
  },
  {
   "cell_type": "markdown",
   "metadata": {},
   "source": [
    "### e. Adding MVP voting shares to global dataframe"
   ]
  },
  {
   "cell_type": "code",
   "execution_count": 36,
   "metadata": {},
   "outputs": [],
   "source": [
    "df_glob = df_glob.merge(df_vote_mvp, on=['Player', 'Season'], how='outer')"
   ]
  },
  {
   "cell_type": "code",
   "execution_count": 37,
   "metadata": {},
   "outputs": [],
   "source": [
    "df_glob.Share = df_glob.Share.fillna(0)"
   ]
  },
  {
   "cell_type": "markdown",
   "metadata": {},
   "source": [
    "### f. Last details"
   ]
  },
  {
   "cell_type": "markdown",
   "metadata": {},
   "source": [
    "We add the proportion of game played : $Game\\ played\\ prop = \\frac {Game Played}{Team Wins + Team Loses}$"
   ]
  },
  {
   "cell_type": "code",
   "execution_count": 38,
   "metadata": {},
   "outputs": [],
   "source": [
    "df_glob.G = df_glob.G.astype(int)\n",
    "\n",
    "df_glob.W = df_glob.W.fillna(0)\n",
    "df_glob.L = df_glob.L.fillna(0)\n",
    "df_glob.W = df_glob.W.astype(int)\n",
    "df_glob.L = df_glob.L.astype(int)"
   ]
  },
  {
   "cell_type": "code",
   "execution_count": 39,
   "metadata": {},
   "outputs": [],
   "source": [
    "df_glob['Game_played_prop'] = df_glob[df_glob.Team != 'Trade'].G / (df_glob[df_glob.Team != 'Trade'].W + df_glob[df_glob.Team != 'Trade'].L)"
   ]
  },
  {
   "cell_type": "code",
   "execution_count": 40,
   "metadata": {},
   "outputs": [],
   "source": [
    "df_glob.rename(columns = {'Share' : 'MVP_share'}, inplace = True)"
   ]
  },
  {
   "cell_type": "markdown",
   "metadata": {},
   "source": [
    "We also add the boolean columns ```ShareYN``` which represent the fact that one player received votes for MVP or not."
   ]
  },
  {
   "cell_type": "code",
   "execution_count": 41,
   "metadata": {},
   "outputs": [],
   "source": [
    "df_glob = df_glob.assign(ShareYN = df_glob['MVP_share'] > 0)"
   ]
  },
  {
   "cell_type": "markdown",
   "metadata": {},
   "source": [
    "## **6. Dataset download**"
   ]
  },
  {
   "cell_type": "code",
   "execution_count": 42,
   "metadata": {},
   "outputs": [],
   "source": [
    "df_glob = df_glob[df_glob.Trade == False]"
   ]
  },
  {
   "cell_type": "code",
   "execution_count": 43,
   "metadata": {},
   "outputs": [],
   "source": [
    "df_glob.to_csv('global.csv', index=False)"
   ]
  },
  {
   "cell_type": "markdown",
   "metadata": {},
   "source": [
    "# **Data scrapping (2021-22 season, by the 2nb of February)**"
   ]
  },
  {
   "cell_type": "markdown",
   "metadata": {},
   "source": [
    "## **1. Classic stats per game**"
   ]
  },
  {
   "cell_type": "code",
   "execution_count": 44,
   "metadata": {},
   "outputs": [
    {
     "name": "stderr",
     "output_type": "stream",
     "text": [
      "/var/folders/k3/3tz5rmjd3j3fsyyg9ynxk2680000gn/T/ipykernel_9656/1534445803.py:10: FutureWarning: The default value of regex will change from True to False in a future version. In addition, single character regular expressions will *not* be treated as literal strings when regex=True.\n",
      "  df_stats_22.Player = df_stats_22.Player.str.replace(\"*\",\"\")\n"
     ]
    }
   ],
   "source": [
    "df_stats_22 = pd.read_html('http://www.basketball-reference.com/leagues/NBA_2022_per_game.html'\\\n",
    "    , header = 0)[0]\n",
    "\n",
    "df_stats_22['No_trade'] = ~df_stats_22['Rk'].duplicated(keep=False)\n",
    "df_stats_22 = df_stats_22.drop_duplicates(['Rk'], keep='first')\n",
    "\n",
    "\n",
    "df_stats_22 = df_stats_22.assign(Season = \"2021-2022\", Decade = \"2020\", \n",
    "                            Trade = (df_stats_22['No_trade']==False))\n",
    "df_stats_22.Player = df_stats_22.Player.str.replace(\"*\",\"\")\n",
    "\n",
    "df_stats_22 = df_stats_22.drop(columns=['No_trade'])"
   ]
  },
  {
   "cell_type": "code",
   "execution_count": 45,
   "metadata": {},
   "outputs": [],
   "source": [
    "df_stats_22 = df_stats_22.drop(df_stats_22[df_stats_22.Rk == 'Rk'].index)\n",
    "\n",
    "col_cat = ['Player', 'Pos', 'Tm','Season', 'Trade']\n",
    "\n",
    "col_int =['Rk','Age','Decade','G','GS']\n",
    "\n",
    "\n",
    "for column in df_stats_22.columns :\n",
    "    if column not in col_cat and column not in col_int :\n",
    "        if column not in col_int :\n",
    "            df_stats_22[column] = df_stats_22[column].astype(float)\n",
    "        else :\n",
    "            df_stats_22[column] =df_stats_22[column].astype(int)"
   ]
  },
  {
   "cell_type": "markdown",
   "metadata": {},
   "source": [
    "## **2. Advanced stats per game**"
   ]
  },
  {
   "cell_type": "code",
   "execution_count": 46,
   "metadata": {},
   "outputs": [
    {
     "name": "stderr",
     "output_type": "stream",
     "text": [
      "/var/folders/k3/3tz5rmjd3j3fsyyg9ynxk2680000gn/T/ipykernel_9656/3754823081.py:7: FutureWarning: The default value of regex will change from True to False in a future version. In addition, single character regular expressions will *not* be treated as literal strings when regex=True.\n",
      "  df_adv_22.Player = df_adv_22.Player.str.replace(\"*\",\"\")\n"
     ]
    }
   ],
   "source": [
    "df_adv_22 = pd.read_html('https://www.basketball-reference.com/leagues/NBA_2022_advanced.html'\\\n",
    "    , header = 0)[0]\n",
    "\n",
    "df_adv_22 = df_adv_22.drop_duplicates(['Rk'], keep='first')\n",
    "\n",
    "df_adv_22 = df_adv_22.assign(Season = \"2021-2022\")\n",
    "df_adv_22.Player = df_adv_22.Player.str.replace(\"*\",\"\")"
   ]
  },
  {
   "cell_type": "code",
   "execution_count": 47,
   "metadata": {},
   "outputs": [],
   "source": [
    "df_adv_22 = df_adv_22.drop(df_adv_22[df_adv_22.Rk == 'Rk'].index)\n",
    "\n",
    "col_cat = ['Player', 'Pos', 'Tm','Season']\n",
    "\n",
    "col_int =['Rk','Age','G','GS']\n",
    "\n",
    "for column in df_adv_22.columns :\n",
    "    if column not in col_cat and column not in col_int :\n",
    "        if column not in col_int :\n",
    "            df_adv_22[column] = df_adv_22[column].astype(float)\n",
    "        else :\n",
    "            df_adv_22[column] = df_adv_22[column].astype(int)\n",
    "\n",
    "empty_columns = [c for c in df_adv_22.columns if df_adv_22[c].isnull().all()]\n",
    "\n",
    "df_adv_22.drop(empty_columns, axis='columns', inplace=True)"
   ]
  },
  {
   "cell_type": "markdown",
   "metadata": {},
   "source": [
    "## **3. Collective results (standings)**"
   ]
  },
  {
   "cell_type": "code",
   "execution_count": 48,
   "metadata": {},
   "outputs": [],
   "source": [
    "L_df_22 = pd.read_html('https://www.basketball-reference.com/leagues/NBA_2022_standings.html', header = 0)[:2]"
   ]
  },
  {
   "cell_type": "code",
   "execution_count": 49,
   "metadata": {},
   "outputs": [],
   "source": [
    "def traitement_22(df) :\n",
    "    if df.W.dtype == object :\n",
    "        df.drop(df[df.W.str.isdigit() == False].index, inplace=True)\n",
    "    df.rename({list(df.columns)[0]: 'Team'}, axis='columns', inplace=True)\n",
    "\n",
    "    columns_to_convert = [c for c in df if c != 'Team']\n",
    "    \n",
    "    df.GB = df.GB.str.replace(\"—\",\"0\")\n",
    "\n",
    "    for c in columns_to_convert :\n",
    "        df[c] = pd.to_numeric(df[c], downcast='float')\n",
    "      \n",
    "    max_ws = max([int(w) for w in df.W])\n",
    "    df['GBC'] = max_ws - df.W\n",
    "    \n",
    "    df.Team[df.Team.str.endswith(' ')] = df[df.Team.str.endswith(' ')].Team.str[:-1]\n",
    "\n",
    "    df.sort_values(['W/L%'], ascending=False, ignore_index=True, inplace=True)\n",
    "\n",
    "    df['Ranking_Conf'] = df.index + 1\n",
    "\n",
    "    df['Playoffs'] = df.Ranking_Conf <= 8"
   ]
  },
  {
   "cell_type": "code",
   "execution_count": 50,
   "metadata": {},
   "outputs": [],
   "source": [
    "def traitement2_22(l_df, season) :\n",
    "    df = l_df[0].append(l_df[1], ignore_index = True)\n",
    "    df.sort_values(['W/L%'], ascending=False, ignore_index=True, inplace=True)\n",
    "    df['Ranking_League'] = df.index + 1\n",
    "\n",
    "    max_ws = max([int(w) for w in df.W])\n",
    "    df.GB = max_ws - df.W\n",
    "    df[\"Season\"] = season\n",
    "    return df"
   ]
  },
  {
   "cell_type": "code",
   "execution_count": 51,
   "metadata": {},
   "outputs": [
    {
     "name": "stderr",
     "output_type": "stream",
     "text": [
      "/var/folders/k3/3tz5rmjd3j3fsyyg9ynxk2680000gn/T/ipykernel_9656/718517820.py:16: SettingWithCopyWarning: \n",
      "A value is trying to be set on a copy of a slice from a DataFrame\n",
      "\n",
      "See the caveats in the documentation: https://pandas.pydata.org/pandas-docs/stable/user_guide/indexing.html#returning-a-view-versus-a-copy\n",
      "  df.Team[df.Team.str.endswith(' ')] = df[df.Team.str.endswith(' ')].Team.str[:-1]\n"
     ]
    }
   ],
   "source": [
    "for df in L_df_22 :\n",
    "    traitement_22(df)"
   ]
  },
  {
   "cell_type": "code",
   "execution_count": 52,
   "metadata": {},
   "outputs": [],
   "source": [
    "df_standings_22 = traitement2_22(L_df_22, '2021-2022')"
   ]
  },
  {
   "cell_type": "markdown",
   "metadata": {},
   "source": [
    "## **4. Dataset construction**"
   ]
  },
  {
   "cell_type": "code",
   "execution_count": 53,
   "metadata": {},
   "outputs": [],
   "source": [
    "df_mvp_22 = df_mvp.drop(columns=['Already_mvp'])\n",
    "\n",
    "already_mvp = set(df_mvp_22.Player.values)"
   ]
  },
  {
   "cell_type": "code",
   "execution_count": 54,
   "metadata": {},
   "outputs": [],
   "source": [
    "df_stats_22.drop(list(df_stats_22.columns)[0], axis = 'columns', inplace = True)\n",
    "df_adv_22.drop(list(df_adv_22.columns)[0], axis = 'columns', inplace = True)"
   ]
  },
  {
   "cell_type": "code",
   "execution_count": 55,
   "metadata": {},
   "outputs": [],
   "source": [
    "PastMVP = []\n",
    "\n",
    "for player in df_stats_22.Player.values :\n",
    "    PastMVP.append(player in already_mvp)\n",
    "\n",
    "df_stats_22['PastMVP'] = PastMVP"
   ]
  },
  {
   "cell_type": "code",
   "execution_count": 56,
   "metadata": {},
   "outputs": [],
   "source": [
    "df_22 = df_stats_22.merge(df_adv_22, on = ['Player', 'Season', 'Age', 'Tm', 'G', 'Pos'])\n",
    "\n",
    "df_22 = df_22.rename(columns={'MP_x': 'MPG', 'MP_y': 'MPTot'})\n",
    "\n",
    "df_22 = df_22[df_22.Trade == False]"
   ]
  },
  {
   "cell_type": "code",
   "execution_count": 57,
   "metadata": {},
   "outputs": [],
   "source": [
    "df_22.Tm = df_22.Tm.str.replace('CHO', 'CHH')"
   ]
  },
  {
   "cell_type": "code",
   "execution_count": 58,
   "metadata": {},
   "outputs": [],
   "source": [
    "teams_acro_22 = list(set(list(df_22.Tm.values)))\n",
    "teams_name_22 = list(set(list(df_standings_22.Team.values)))\n",
    "teams_acro_22.sort()\n",
    "teams_name_22.sort()\n",
    "\n",
    "tab_teams_22 ={}\n",
    "for i in range(len(teams_name_22)):\n",
    "    tab_teams_22[teams_acro_22[i]]=teams_name_22[i]"
   ]
  },
  {
   "cell_type": "code",
   "execution_count": 59,
   "metadata": {},
   "outputs": [],
   "source": [
    "names_22 = []\n",
    "for acro in list(df_22.Tm.values) :\n",
    "    if acro != 'TOT' :\n",
    "        names_22.append(tab_teams_22[acro])\n",
    "    else :\n",
    "        names_22.append('Trade')\n",
    "\n",
    "df_22.insert(4, 'Team', names_22)"
   ]
  },
  {
   "cell_type": "code",
   "execution_count": 60,
   "metadata": {},
   "outputs": [],
   "source": [
    "df_22 = df_22.merge(df_standings_22, on=['Team', 'Season'], how='outer')"
   ]
  },
  {
   "cell_type": "code",
   "execution_count": 61,
   "metadata": {},
   "outputs": [],
   "source": [
    "df_22['G'] = df_22['G'].astype(int)"
   ]
  },
  {
   "cell_type": "code",
   "execution_count": 62,
   "metadata": {},
   "outputs": [],
   "source": [
    "df_22['Game_played_prop'] = df_22.G/(df_22.W + df_22.L)"
   ]
  },
  {
   "cell_type": "code",
   "execution_count": 63,
   "metadata": {},
   "outputs": [],
   "source": [
    "df_22.to_csv('2022.csv', index = False)"
   ]
  }
 ],
 "metadata": {
  "interpreter": {
   "hash": "7e1998ff7f8aa20ada591c520b972326324e5ea05489af9e422744c7c09f6dad"
  },
  "kernelspec": {
   "display_name": "Python 3.10.2 64-bit",
   "language": "python",
   "name": "python3"
  },
  "language_info": {
   "codemirror_mode": {
    "name": "ipython",
    "version": 3
   },
   "file_extension": ".py",
   "mimetype": "text/x-python",
   "name": "python",
   "nbconvert_exporter": "python",
   "pygments_lexer": "ipython3",
   "version": "3.10.2"
  },
  "orig_nbformat": 4
 },
 "nbformat": 4,
 "nbformat_minor": 2
}
